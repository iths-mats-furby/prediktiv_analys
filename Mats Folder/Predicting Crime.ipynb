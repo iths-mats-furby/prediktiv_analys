{
 "cells": [
  {
   "cell_type": "markdown",
   "metadata": {},
   "source": [
    "# Predicting Violent Crime"
   ]
  },
  {
   "cell_type": "markdown",
   "metadata": {},
   "source": [
    "### Data Set Information:\n",
    "\n",
    "Many variables are included so that algorithms that select or learn weights for \n",
    "attributes could be tested. However, clearly unrelated attributes were not included; \n",
    "attributes were picked if there was any plausible connection to crime (N=122), plus \n",
    "the attribute to be predicted (Per Capita Violent Crimes). The variables included in \n",
    "the dataset involve the community, such as the percent of the population considered \n",
    "urban, and the median family income, and involving law enforcement, such as per capita \n",
    "number of police officers, and percent of officers assigned to drug units.\n",
    "\n",
    "The per capita violent crimes variable was calculated using population and the sum of \n",
    "crime variables considered violent crimes in the United States: murder, rape, robbery, \n",
    "and assault. There was apparently some controversy in some states concerning the \n",
    "counting of rapes. These resulted in missing values for rape, which resulted in \n",
    "incorrect values for per capita violent crime. These cities are not included in the \n",
    "dataset. Many of these omitted communities were from the midwestern USA.\n",
    "\n",
    "Data is described below based on original values. All numeric data was normalized into \n",
    "the decimal range 0.00-1.00 using an Unsupervised, equal-interval binning method. \n",
    "Attributes retain their distribution and skew (hence for example the population \n",
    "attribute has a mean value of 0.06 because most communities are small). E.g. An \n",
    "attribute described as 'mean people per household' is actually the normalized (0-1) \n",
    "version of that value.\n",
    "\n",
    "The normalization preserves rough ratios of values WITHIN an attribute (e.g. double \n",
    "the value for double the population within the available precision - except for \n",
    "extreme values (all values more than 3 SD above the mean are normalized to 1.00; all \n",
    "values more than 3 SD below the mean are nromalized to 0.00)).\n",
    "\n",
    "However, the normalization does not preserve relationships between values BETWEEN \n",
    "attributes (e.g. it would not be meaningful to compare the value for whitePerCap with \n",
    "the value for blackPerCap for a community)\n",
    "\n",
    "A limitation was that the LEMAS survey was of the police departments with at least 100 \n",
    "officers, plus a random sample of smaller departments. For our purposes, communities \n",
    "not found in both census and crime datasets were omitted. Many communities are missing \n",
    "LEMAS data."
   ]
  },
  {
   "cell_type": "markdown",
   "metadata": {},
   "source": [
    "### Features description\n",
    "\n",
    "- state: US state (by number) - not counted as predictive above, but if considered, should be consided nominal (nominal) \n",
    "- county: numeric code for county - not predictive, and many missing values (numeric) \n",
    "- community: numeric code for community - not predictive and many missing values (numeric) \n",
    "- communityname: community name - not predictive - for information only (string) \n",
    "- fold: fold number for non-random 10 fold cross validation, potentially useful for debugging, paired tests - not predictive (numeric) \n",
    "- population: population for community: (numeric - decimal) \n",
    "- householdsize: mean people per household (numeric - decimal) \n",
    "- agePct12t21: percentage of population that is 12-21 in age (numeric - decimal) \n",
    "- agePct12t29: percentage of population that is 12-29 in age (numeric - decimal) \n",
    "- agePct16t24: percentage of population that is 16-24 in age (numeric - decimal) \n",
    "- agePct65up: percentage of population that is 65 and over in age (numeric - decimal) \n",
    "- numbUrban: number of people living in areas classified as urban (numeric - decimal) \n",
    "- pctUrban: percentage of people living in areas classified as urban (numeric - decimal) \n",
    "- medIncome: median household income (numeric - decimal) \n",
    "- pctWWage: percentage of households with wage or salary income in 1989 (numeric - decimal) \n",
    "- pctWFarmSelf: percentage of households with farm or self employment income in 1989 (numeric - decimal) \n",
    "- pctWInvInc: percentage of households with investment / rent income in 1989 (numeric - decimal) \n",
    "- pctWSocSec: percentage of households with social security income in 1989 (numeric - decimal) \n",
    "- pctWPubAsst: percentage of households with public assistance income in 1989 (numeric - decimal) \n",
    "- pctWRetire: percentage of households with retirement income in 1989 (numeric - decimal) \n",
    "- medFamInc: median family income (differs from household income for non-family households) (numeric - decimal) \n",
    "- perCapInc: per capita income (numeric - decimal) \n",
    "- NumUnderPov: number of people under the poverty level (numeric - decimal) \n",
    "- PctPopUnderPov: percentage of people under the poverty level (numeric - decimal) \n",
    "- PctLess9thGrade: percentage of people 25 and over with less than a 9th grade education (numeric - decimal) \n",
    "- PctNotHSGrad: percentage of people 25 and over that are not high school graduates (numeric - decimal) \n",
    "- PctBSorMore: percentage of people 25 and over with a bachelors degree or higher education (numeric - decimal) \n",
    "- PctUnemployed: percentage of people 16 and over, in the labor force, and unemployed (numeric - decimal) \n",
    "- PctEmploy: percentage of people 16 and over who are employed (numeric - decimal) \n",
    "- PctEmplManu: percentage of people 16 and over who are employed in manufacturing (numeric - decimal) \n",
    "- PctEmplProfServ: percentage of people 16 and over who are employed in professional services (numeric - decimal) \n",
    "- PctOccupManu: percentage of people 16 and over who are employed in manufacturing (numeric - decimal) ######## \n",
    "- PctOccupMgmtProf: percentage of people 16 and over who are employed in management or professional occupations (numeric - decimal) \n",
    "- MalePctDivorce: percentage of males who are divorced (numeric - decimal) \n",
    "- MalePctNevMarr: percentage of males who have never married (numeric - decimal) \n",
    "- FemalePctDiv: percentage of females who are divorced (numeric - decimal) \n",
    "- TotalPctDiv: percentage of population who are divorced (numeric - decimal) \n",
    "- PersPerFam: mean number of people per family (numeric - decimal) \n",
    "- PctFam2Par: percentage of families (with kids) that are headed by two parents (numeric - decimal) \n",
    "- PctKids2Par: percentage of kids in family housing with two parents (numeric - decimal) \n",
    "- PctYoungKids2Par: percent of kids 4 and under in two parent households (numeric - decimal) \n",
    "- PctTeen2Par: percent of kids age 12-17 in two parent households (numeric - decimal) \n",
    "- PctWorkMomYoungKids: percentage of moms of kids 6 and under in labor force (numeric - decimal) \n",
    "- PctWorkMom: percentage of moms of kids under 18 in labor force (numeric - decimal) \n",
    "- NumIlleg: number of kids born to never married (numeric - decimal) \n",
    " PctIlleg: percentage of kids born to never married (numeric - decimal) \n",
    "- NumImmig: total number of people known to be foreign born (numeric - decimal) \n",
    "- PctImmigRecent: percentage of _immigrants_ who immigated within last 3 years (numeric - decimal) \n",
    "- PctImmigRec5: percentage of _immigrants_ who immigated within last 5 years (numeric - decimal) \n",
    "- PctImmigRec8: percentage of _immigrants_ who immigated within last 8 years (numeric - decimal) \n",
    "- PctImmigRec10: percentage of _immigrants_ who immigated within last 10 years (numeric - decimal) \n",
    "- PctRecentImmig: percent of _population_ who have immigrated within the last 3 years (numeric - decimal) \n",
    "- PctRecImmig5: percent of _population_ who have immigrated within the last 5 years (numeric - decimal) \n",
    "- PctRecImmig8: percent of _population_ who have immigrated within the last 8 years (numeric - decimal) \n",
    "- PctRecImmig10: percent of _population_ who have immigrated within the last 10 years (numeric - decimal) \n",
    "- PctSpeakEnglOnly: percent of people who speak only English (numeric - decimal) \n",
    "- PctNotSpeakEnglWell: percent of people who do not speak English well (numeric - decimal) \n",
    "- PctLargHouseFam: percent of family households that are large (6 or more) (numeric - decimal) \n",
    "- PctLargHouseOccup: percent of all occupied households that are large (6 or more people) (numeric - decimal) \n",
    "- PersPerOccupHous: mean persons per household (numeric - decimal) \n",
    "- PersPerOwnOccHous: mean persons per owner occupied household (numeric - decimal) \n",
    "- PersPerRentOccHous: mean persons per rental household (numeric - decimal) \n",
    "- PctPersOwnOccup: percent of people in owner occupied households (numeric - decimal) \n",
    "- PctPersDenseHous: percent of persons in dense housing (more than 1 person per room) (numeric - decimal) \n",
    "- PctHousLess3BR: percent of housing units with less than 3 bedrooms (numeric - decimal) \n",
    "- MedNumBR: median number of bedrooms (numeric - decimal) \n",
    "- HousVacant: number of vacant households (numeric - decimal) \n",
    "- PctHousOccup: percent of housing occupied (numeric - decimal) \n",
    "- PctHousOwnOcc: percent of households owner occupied (numeric - decimal) \n",
    "- PctVacantBoarded: percent of vacant housing that is boarded up (numeric - decimal) \n",
    "- PctVacMore6Mos: percent of vacant housing that has been vacant more than 6 months (numeric - decimal) \n",
    "- MedYrHousBuilt: median year housing units built (numeric - decimal) \n",
    "- PctHousNoPhone: percent of occupied housing units without phone (in 1990, this was rare!) (numeric - decimal) \n",
    "- PctWOFullPlumb: percent of housing without complete plumbing facilities (numeric - decimal) \n",
    "- OwnOccLowQuart: owner occupied housing - lower quartile value (numeric - decimal) \n",
    "- OwnOccMedVal: owner occupied housing - median value (numeric - decimal) \n",
    "- OwnOccHiQuart: owner occupied housing - upper quartile value (numeric - decimal) \n",
    "- RentLowQ: rental housing - lower quartile rent (numeric - decimal) \n",
    "- RentMedian: rental housing - median rent (Census variable H32B from file STF1A) (numeric - decimal) \n",
    "- RentHighQ: rental housing - upper quartile rent (numeric - decimal) \n",
    "- MedRent: median gross rent (Census variable H43A from file STF3A - includes utilities) (numeric - decimal) \n",
    "- MedRentPctHousInc: median gross rent as a percentage of household income (numeric - decimal) \n",
    "- MedOwnCostPctInc: median owners cost as a percentage of household income - for owners with a mortgage (numeric - decimal) \n",
    "- MedOwnCostPctIncNoMtg: median owners cost as a percentage of household income - for owners without a mortgage (numeric - decimal) \n",
    "- NumInShelters: number of people in homeless shelters (numeric - decimal) \n",
    "- NumStreet: number of homeless people counted in the street (numeric - decimal) \n",
    "- PctForeignBorn: percent of people foreign born (numeric - decimal) \n",
    "- PctBornSameState: percent of people born in the same state as currently living (numeric - decimal) \n",
    "- PctSameHouse85: percent of people living in the same house as in 1985 (5 years before) (numeric - decimal) \n",
    "- PctSameCity85: percent of people living in the same city as in 1985 (5 years before) (numeric - decimal) \n",
    "- PctSameState85: percent of people living in the same state as in 1985 (5 years before) (numeric - decimal) \n",
    "- LemasSwornFT: number of sworn full time police officers (numeric - decimal) \n",
    "- LemasSwFTPerPop: sworn full time police officers per 100K population (numeric - decimal) \n",
    "- LemasSwFTFieldOps: number of sworn full time police officers in field operations (on the street as opposed to administrative etc) (numeric - decimal) \n",
    "- LemasSwFTFieldPerPop: sworn full time police officers in field operations (on the street as opposed to administrative etc) per 100K population (numeric - decimal) \n",
    "- LemasTotalReq: total requests for police (numeric - decimal) \n",
    "- LemasTotReqPerPop: total requests for police per 100K popuation (numeric - decimal) \n",
    "- PolicReqPerOffic: total requests for police per police officer (numeric - decimal) \n",
    "- PolicPerPop: police officers per 100K population (numeric - decimal) \n",
    "- OfficAssgnDrugUnits: number of officers assigned to special drug units (numeric - decimal) \n",
    "- NumKindsDrugsSeiz: number of different kinds of drugs seized (numeric - decimal) \n",
    "- PolicAveOTWorked: police average overtime worked (numeric - decimal) \n",
    "- LandArea: land area in square miles (numeric - decimal) \n",
    "- PopDens: population density in persons per square mile (numeric - decimal) \n",
    "- PctUsePubTrans: percent of people using public transit for commuting (numeric - decimal) \n",
    "- PolicCars: number of police cars (numeric - decimal) \n",
    "- PolicOperBudg: police operating budget (numeric - decimal) \n",
    "- LemasPctPolicOnPatr: percent of sworn full time police officers on patrol (numeric - decimal) \n",
    "- LemasGangUnitDeploy: gang unit deployed (numeric - decimal - but really ordinal - 0 means NO, 1 means YES, 0.5 means Part Time) \n",
    "- LemasPctOfficDrugUn: percent of officers assigned to drug units (numeric - decimal) \n",
    "- PolicBudgPerPop: police operating budget per population (numeric - decimal) \n",
    "- ViolentCrimesPerPop: total number of violent crimes per 100K popuation (numeric - decimal) GOAL attribute (to be predicted) "
   ]
  },
  {
   "cell_type": "code",
   "execution_count": 21,
   "metadata": {
    "collapsed": true
   },
   "outputs": [],
   "source": [
    "# Importing useful libraries\n",
    "import numpy as np\n",
    "import matplotlib.pyplot as plt\n",
    "import pandas as pd\n",
    "from matplotlib import style\n",
    "#plt.style.use('default') \n",
    "#style.use('dark_background') #dark_background"
   ]
  },
  {
   "cell_type": "markdown",
   "metadata": {},
   "source": [
    "## 0. Data Preparation"
   ]
  },
  {
   "cell_type": "code",
   "execution_count": 2,
   "metadata": {
    "collapsed": true
   },
   "outputs": [],
   "source": [
    "# importing data\n",
    "crime = pd.read_csv('./data/crime.csv', na_values='?', index_col='communityname') "
   ]
  },
  {
   "cell_type": "code",
   "execution_count": 3,
   "metadata": {},
   "outputs": [
    {
     "name": "stdout",
     "output_type": "stream",
     "text": [
      "state                     0\n",
      "county                 1174\n",
      "community              1177\n",
      "fold                      0\n",
      "population                0\n",
      "                       ... \n",
      "PolicOperBudg          1675\n",
      "LemasGangUnitDeploy    1675\n",
      "LemasPctOfficDrugUn       0\n",
      "PolicBudgPerPop        1675\n",
      "ViolentCrimesPerPop       0\n",
      "Length: 111, dtype: int64\n"
     ]
    }
   ],
   "source": [
    "# number of NaN values\n",
    "nan_per_col = crime.isna().sum()\n",
    "print(nan_per_col)"
   ]
  },
  {
   "cell_type": "code",
   "execution_count": 4,
   "metadata": {},
   "outputs": [],
   "source": [
    "# Showing all variables with missing values\n",
    "missing_values = nan_per_col[nan_per_col>0]"
   ]
  },
  {
   "cell_type": "code",
   "execution_count": 6,
   "metadata": {},
   "outputs": [],
   "source": [
    "# Deleting columns with majority of missing values\n",
    "cols_to_remove = missing_values.index\n",
    "crime.drop(cols_to_remove, axis=1, inplace=True)"
   ]
  },
  {
   "cell_type": "code",
   "execution_count": 7,
   "metadata": {},
   "outputs": [],
   "source": [
    "# Deleting non predictive columns\n",
    "non_predictive = ['state', 'fold']\n",
    "crime.drop(non_predictive, axis=1, inplace=True)"
   ]
  },
  {
   "cell_type": "code",
   "execution_count": 8,
   "metadata": {},
   "outputs": [
    {
     "data": {
      "text/plain": [
       "ViolentCrimesPerPop    1.000000\n",
       "PctKids2Par            0.738424\n",
       "PctIlleg               0.737957\n",
       "PctFam2Par             0.706667\n",
       "PctYoungKids2Par       0.666059\n",
       "                         ...   \n",
       "PersPerOccupHous       0.039739\n",
       "householdsize          0.034923\n",
       "PctWorkMomYoungKids    0.022535\n",
       "PctVacMore6Mos         0.021283\n",
       "PctSameState85         0.019459\n",
       "Name: ViolentCrimesPerPop, Length: 91, dtype: float64"
      ]
     },
     "execution_count": 8,
     "metadata": {},
     "output_type": "execute_result"
    }
   ],
   "source": [
    "top_corr_features = crime.corr().loc['ViolentCrimesPerPop'].apply(np.abs).sort_values(ascending=False)\n",
    "top_corr_features\n"
   ]
  },
  {
   "cell_type": "code",
   "execution_count": 9,
   "metadata": {},
   "outputs": [
    {
     "data": {
      "text/plain": [
       "Index(['PctKids2Par', 'PctIlleg', 'PctFam2Par', 'PctYoungKids2Par',\n",
       "       'PctTeen2Par', 'pctWInvInc', 'pctWPubAsst', 'FemalePctDiv',\n",
       "       'TotalPctDiv', 'PctPersOwnOccup'],\n",
       "      dtype='object')"
      ]
     },
     "execution_count": 9,
     "metadata": {},
     "output_type": "execute_result"
    }
   ],
   "source": [
    "corr_features = crime.corr().loc['ViolentCrimesPerPop'].apply(np.abs).sort_values(ascending=False).index[1:11]\n",
    "corr_features\n"
   ]
  },
  {
   "cell_type": "code",
   "execution_count": 8,
   "metadata": {},
   "outputs": [],
   "source": [
    "top_corr_features = crime.corr()"
   ]
  },
  {
   "cell_type": "code",
   "execution_count": 10,
   "metadata": {},
   "outputs": [
    {
     "data": {
      "text/plain": [
       "['PctKids2Par',\n",
       " 'PctIlleg',\n",
       " 'PctFam2Par',\n",
       " 'PctYoungKids2Par',\n",
       " 'PctTeen2Par',\n",
       " 'pctWInvInc',\n",
       " 'pctWPubAsst',\n",
       " 'FemalePctDiv',\n",
       " 'TotalPctDiv',\n",
       " 'PctPersOwnOccup']"
      ]
     },
     "execution_count": 10,
     "metadata": {},
     "output_type": "execute_result"
    }
   ],
   "source": [
    "# Features with the highest correlation with the target\n",
    "top_corr_features = crime.corr().loc['ViolentCrimesPerPop'].apply(np.abs).sort_values(ascending=False).index[1:11]\n",
    "top_corr_features = list(top_corr_features)\n",
    "top_corr_features"
   ]
  },
  {
   "cell_type": "markdown",
   "metadata": {},
   "source": [
    "### Getting the train and test sets"
   ]
  },
  {
   "cell_type": "code",
   "execution_count": 11,
   "metadata": {
    "collapsed": true
   },
   "outputs": [],
   "source": [
    "from sklearn.model_selection import train_test_split\n",
    "from sklearn.metrics import mean_squared_error\n",
    "from sklearn.metrics import mean_absolute_error\n",
    "from sklearn.metrics import r2_score\n",
    "from sklearn.metrics import explained_variance_score"
   ]
  },
  {
   "cell_type": "code",
   "execution_count": 12,
   "metadata": {},
   "outputs": [],
   "source": [
    "target_name = 'ViolentCrimesPerPop'\n",
    "x = crime[top_corr_features]\n",
    "y = crime[target_name]\n",
    "x_train, x_test, y_train, y_test = train_test_split(x, y, test_size=0.2, random_state=12)"
   ]
  },
  {
   "cell_type": "markdown",
   "metadata": {},
   "source": [
    "### Preparing a DataFrame for model analysis"
   ]
  },
  {
   "cell_type": "code",
   "execution_count": 13,
   "metadata": {
    "collapsed": true
   },
   "outputs": [],
   "source": [
    "models = pd.DataFrame(index=['top10_featues_mse', 'full_model_mse'], \n",
    "                      columns=['NULL', 'MLR', 'KNN', 'LASSO'])"
   ]
  },
  {
   "cell_type": "code",
   "execution_count": 14,
   "metadata": {},
   "outputs": [],
   "source": [
    "model_mean = pd.DataFrame(index=['MSE', 'RMSE', 'MAE'], columns=['NULL', 'MLR'])\n",
    "model_r = pd.DataFrame(index=['R\"', 'explained_variance'], columns=['NULL', 'MLR'])\n",
    "\n",
    "#Eva frebasade under lektion utan att uppdatera "
   ]
  },
  {
   "cell_type": "markdown",
   "metadata": {},
   "source": [
    "# Making predictions with just a few features (top 10)"
   ]
  },
  {
   "cell_type": "markdown",
   "metadata": {},
   "source": [
    "## The Null model: always predict the average of the target"
   ]
  },
  {
   "cell_type": "code",
   "execution_count": 15,
   "metadata": {
    "scrolled": true
   },
   "outputs": [
    {
     "name": "stdout",
     "output_type": "stream",
     "text": [
      "0.23799373040752353\n"
     ]
    }
   ],
   "source": [
    "y_pred_null = y_train.mean()\n",
    "print(y_pred_null)\n",
    "models.loc['top10_featues_mse','NULL'] = mean_squared_error(y_pred=np.repeat(y_pred_null, y_test.size), y_true=y_test)"
   ]
  },
  {
   "cell_type": "code",
   "execution_count": 25,
   "metadata": {},
   "outputs": [],
   "source": [
    "model_mean.loc ['MSE', 'NULL'] = mean_squared_error(y_pred=np.repeat(y_pred_null, y_test.size), y_true=y_test)\n",
    "model_mean.loc ['RMSE', 'NULL'] = mean_squared_error(y_pred=np.repeat(y_pred_null, y_test.size), y_true=y_test, squared=False)\n",
    "model_mean.loc ['MAE', 'NULL'] = mean_absolute_error(y_pred=np.repeat(y_pred_null, y_test.size), y_true=y_test)\n",
    "model_r.loc ['R2', 'NULL'] = r2_score(y_pred=np.repeat(y_pred_null, y_test.size), y_true=y_test)\n",
    "model_r.loc ['explained_variance', 'NULL'] = explained_variance_score(y_pred=np.repeat(y_pred_null, y_test.size), y_true=y_test)\n",
    "#Saknat dataset, skrev för hand\n",
    "# Google sklearn mean squared error\n",
    "# https://scikit-learn.org/stable/modules/generated/sklearn.metrics.mean_squared_error.html\n",
    "\n"
   ]
  },
  {
   "cell_type": "markdown",
   "metadata": {},
   "source": [
    "## A. Multiple Linear Regression"
   ]
  },
  {
   "cell_type": "code",
   "execution_count": 24,
   "metadata": {
    "collapsed": true
   },
   "outputs": [],
   "source": [
    "# 1. Import the estimator object (model)\n",
    "from sklearn.linear_model import LinearRegression\n",
    "# 2. Create an instance of the estimator\n",
    "linear_regression = LinearRegression()\n",
    "# 3. Use the training data to train the estimator\n",
    "linear_regression.fit(x_train, y_train)\n",
    "# 4. Evaluate the model\n",
    "models.loc['top10_featues_mse','MLR'] = mean_squared_error(y_pred=linear_regression.predict(x_test), y_true=y_test)"
   ]
  },
  {
   "cell_type": "code",
   "execution_count": 18,
   "metadata": {},
   "outputs": [],
   "source": [
    "y_pred = linear_regression.predict(x_test)\n",
    "model_mean.loc ['MSE', 'MLR'] = mean_squared_error(y_pred=y_pred, y_true=y_test)\n",
    "model_mean.loc ['RMSE', 'MLR'] = mean_squared_error(y_pred=y_pred, y_true=y_test, squared=False)\n",
    "model_mean.loc ['MAE', 'MLR'] = mean_absolute_error(y_pred=y_pred, y_true=y_test)\n",
    "model_r.loc ['R2', 'MLR'] = r2_score(y_pred=y_pred, y_true=y_test)\n",
    "model_r.loc ['explained_variance', 'MLR'] = explained_variance_score(y_pred=y_pred, y_true=y_test)\n",
    "# Eva extra kod för från lek\n"
   ]
  },
  {
   "cell_type": "code",
   "execution_count": null,
   "metadata": {},
   "outputs": [],
   "source": []
  },
  {
   "cell_type": "code",
   "execution_count": 23,
   "metadata": {},
   "outputs": [
    {
     "data": {
      "text/plain": [
       "Text(0.5, 1.0, 'Mean error metrics for Regression model')"
      ]
     },
     "execution_count": 23,
     "metadata": {},
     "output_type": "execute_result"
    },
    {
     "data": {
      "image/png": "[encoded data removed]",
      "text/plain": [
       "<Figure size 800x500 with 1 Axes>"
      ]
     },
     "metadata": {},
     "output_type": "display_data"
    },
    {
     "data": {
      "image/png": "[encoded data removed]",
      "text/plain": [
       "<Figure size 640x480 with 1 Axes>"
      ]
     },
     "metadata": {},
     "output_type": "display_data"
    }
   ],
   "source": [
    "fig, ax = plt.subplots(figsize=(8,5))\n",
    "model_mean.T.plot(kind='barh')\n",
    "ax.set_title('Mean error metrics for Regression model')"
   ]
  },
  {
   "cell_type": "code",
   "execution_count": 22,
   "metadata": {},
   "outputs": [
    {
     "data": {
      "image/png": "[encoded data removed]",
      "text/plain": [
       "<Figure size 800x500 with 1 Axes>"
      ]
     },
     "metadata": {},
     "output_type": "display_data"
    },
    {
     "data": {
      "image/png": "[encoded data removed]",
      "text/plain": [
       "<Figure size 640x480 with 1 Axes>"
      ]
     },
     "metadata": {},
     "output_type": "display_data"
    }
   ],
   "source": [
    "fig, ax = plt.subplots(figsize=(8,5))\n",
    "model_r.T.plot(kind='barh')\n",
    "ax.set_title('Error metrics for Regression model');"
   ]
  },
  {
   "cell_type": "code",
   "execution_count": 45,
   "metadata": {},
   "outputs": [
    {
     "data": {
      "text/html": [
       "<div>\n",
       "<style scoped>\n",
       "    .dataframe tbody tr th:only-of-type {\n",
       "        vertical-align: middle;\n",
       "    }\n",
       "\n",
       "    .dataframe tbody tr th {\n",
       "        vertical-align: top;\n",
       "    }\n",
       "\n",
       "    .dataframe thead th {\n",
       "        text-align: right;\n",
       "    }\n",
       "</style>\n",
       "<table border=\"1\" class=\"dataframe\">\n",
       "  <thead>\n",
       "    <tr style=\"text-align: right;\">\n",
       "      <th></th>\n",
       "      <th>NULL</th>\n",
       "      <th>MLR</th>\n",
       "    </tr>\n",
       "  </thead>\n",
       "  <tbody>\n",
       "    <tr>\n",
       "      <th>R\"</th>\n",
       "      <td>NaN</td>\n",
       "      <td>NaN</td>\n",
       "    </tr>\n",
       "    <tr>\n",
       "      <th>explained_variance</th>\n",
       "      <td>NaN</td>\n",
       "      <td>0.67031</td>\n",
       "    </tr>\n",
       "    <tr>\n",
       "      <th>R2</th>\n",
       "      <td>NaN</td>\n",
       "      <td>0.668979</td>\n",
       "    </tr>\n",
       "  </tbody>\n",
       "</table>\n",
       "</div>"
      ],
      "text/plain": [
       "                   NULL       MLR\n",
       "R\"                  NaN       NaN\n",
       "explained_variance  NaN   0.67031\n",
       "R2                  NaN  0.668979"
      ]
     },
     "execution_count": 45,
     "metadata": {},
     "output_type": "execute_result"
    }
   ],
   "source": [
    "model_r"
   ]
  },
  {
   "cell_type": "markdown",
   "metadata": {},
   "source": [
    "## B. K-Nearest Neighbor Model"
   ]
  },
  {
   "cell_type": "code",
   "execution_count": 28,
   "metadata": {},
   "outputs": [],
   "source": [
    "# 1. Import the estimator object (model)\n",
    "from sklearn.neighbors import KNeighborsRegressor\n",
    "# 2. Create an instance of the estimator\n",
    "knn = KNeighborsRegressor(n_neighbors=10, weights='distance', metric='euclidean')\n",
    "# 3. Use the trainning data to train the estimator\n",
    "knn.fit(x_train, y_train)\n",
    "# 4. Evaluate the model\n",
    "models.loc['top10_features_mse','KNN'] = mean_squared_error(y_pred=knn.predict(x_test), \n",
    "                                                   y_true=y_test)\n",
    "\n",
    "#https://scikit-learn.org/stable/modules/generated/sklearn.neighbors.KNeighborsRegressor.html                                        "
   ]
  },
  {
   "cell_type": "markdown",
   "metadata": {},
   "source": [
    "## C. Lasso"
   ]
  },
  {
   "cell_type": "code",
   "execution_count": 29,
   "metadata": {
    "collapsed": true
   },
   "outputs": [],
   "source": [
    "# 1. Import the estimator object (model)\n",
    "from sklearn.linear_model import Lasso\n",
    "# 2. Create an instance of the estimator\n",
    "lasso = Lasso(alpha=0.0001)\n",
    "# 3. Use the trainning data to train the estimator\n",
    "lasso.fit(x_train, y_train)\n",
    "# 4. Evaluate the model\n",
    "models.loc['top10_features_mse','LASSO'] = mean_squared_error(y_pred=lasso.predict(x_test), \n",
    "                                                   y_true=y_test)"
   ]
  },
  {
   "cell_type": "code",
   "execution_count": 47,
   "metadata": {},
   "outputs": [
    {
     "data": {
      "text/html": [
       "<div>\n",
       "<style scoped>\n",
       "    .dataframe tbody tr th:only-of-type {\n",
       "        vertical-align: middle;\n",
       "    }\n",
       "\n",
       "    .dataframe tbody tr th {\n",
       "        vertical-align: top;\n",
       "    }\n",
       "\n",
       "    .dataframe thead th {\n",
       "        text-align: right;\n",
       "    }\n",
       "</style>\n",
       "<table border=\"1\" class=\"dataframe\">\n",
       "  <thead>\n",
       "    <tr style=\"text-align: right;\">\n",
       "      <th></th>\n",
       "      <th>NULL</th>\n",
       "      <th>MLR</th>\n",
       "      <th>KNN</th>\n",
       "      <th>LASSO</th>\n",
       "    </tr>\n",
       "  </thead>\n",
       "  <tbody>\n",
       "    <tr>\n",
       "      <th>top10_featues_mse</th>\n",
       "      <td>0.055734</td>\n",
       "      <td>0.023316</td>\n",
       "      <td>0.023801</td>\n",
       "      <td>0.023163</td>\n",
       "    </tr>\n",
       "    <tr>\n",
       "      <th>full_model_mse</th>\n",
       "      <td>NaN</td>\n",
       "      <td>NaN</td>\n",
       "      <td>NaN</td>\n",
       "      <td>NaN</td>\n",
       "    </tr>\n",
       "  </tbody>\n",
       "</table>\n",
       "</div>"
      ],
      "text/plain": [
       "                       NULL       MLR       KNN     LASSO\n",
       "top10_featues_mse  0.055734  0.023316  0.023801  0.023163\n",
       "full_model_mse          NaN       NaN       NaN       NaN"
      ]
     },
     "execution_count": 47,
     "metadata": {},
     "output_type": "execute_result"
    }
   ],
   "source": [
    "models"
   ]
  },
  {
   "cell_type": "code",
   "execution_count": 30,
   "metadata": {},
   "outputs": [
    {
     "data": {
      "image/png": "[encoded data removed]",
      "text/plain": [
       "<Figure size 800x500 with 1 Axes>"
      ]
     },
     "metadata": {},
     "output_type": "display_data"
    }
   ],
   "source": [
    "fig, ax = plt.subplots(figsize=(8,5))\n",
    "models.loc['top10_featues_mse'].plot(kind='barh', ax=ax)\n",
    "ax.set_title('MSE for Regression Models Using top 10 correlated features')\n",
    "ax.legend(loc=3);"
   ]
  },
  {
   "cell_type": "markdown",
   "metadata": {},
   "source": [
    "# Using all the features"
   ]
  },
  {
   "cell_type": "code",
   "execution_count": 18,
   "metadata": {
    "collapsed": true
   },
   "outputs": [],
   "source": [
    "target_name = 'ViolentCrimesPerPop'\n",
    "x = crime.drop('ViolentCrimesPerPop', axis=1)\n",
    "y = crime[target_name]\n",
    "x_train, x_test, y_train, y_test = train_test_split(x, y, test_size=0.2, random_state=13)"
   ]
  },
  {
   "cell_type": "markdown",
   "metadata": {},
   "source": [
    "### Preparing a DataFrame for model analysis"
   ]
  },
  {
   "cell_type": "markdown",
   "metadata": {},
   "source": [
    "## The Null model: always predict the average of the target"
   ]
  },
  {
   "cell_type": "code",
   "execution_count": 19,
   "metadata": {
    "collapsed": true,
    "scrolled": true
   },
   "outputs": [],
   "source": [
    "y_pred_null = y_train.mean()\n",
    "models.loc['full_model_mse','NULL'] = mean_squared_error(y_pred=np.repeat(y_pred_null, y_test.size), \n",
    "                                                   y_true=y_test)"
   ]
  },
  {
   "cell_type": "markdown",
   "metadata": {},
   "source": [
    "## A. Multiple Linear Regression"
   ]
  },
  {
   "cell_type": "code",
   "execution_count": 35,
   "metadata": {},
   "outputs": [],
   "source": [
    "# 1. Import the estimator object (model)\n",
    "#from sklearn.linear_model import LinearRegression\n",
    "# 2. Create an instance of the estimator\n",
    "linear_regression = LinearRegression()\n",
    "# 3. Use the trainning data to train the estimator\n",
    "linear_regression.fit(x_train, y_train)\n",
    "# 4. Evaluate the model\n",
    "models.loc['full_model_mse','MLR'] = mean_squared_error(y_pred=linear_regression.predict(x_test), \n",
    "                                                   y_true=y_test)"
   ]
  },
  {
   "cell_type": "markdown",
   "metadata": {},
   "source": [
    "## B. K-Nearest Neighbor Model"
   ]
  },
  {
   "cell_type": "code",
   "execution_count": 33,
   "metadata": {
    "collapsed": true
   },
   "outputs": [],
   "source": [
    "# 1. Import the estimator object (model)\n",
    "#from sklearn.neighbors import KNeighborsRegressor\n",
    "# 2. Create an instance of the estimator\n",
    "knn = KNeighborsRegressor(n_neighbors=10, weights='distance', metric='euclidean')\n",
    "# 3. Use the trainning data to train the estimator\n",
    "knn.fit(x_train, y_train)\n",
    "# 4. Evaluate the model\n",
    "models.loc['full_model_mse','KNN'] = mean_squared_error(y_pred=knn.predict(x_test), \n",
    "                                                   y_true=y_test)"
   ]
  },
  {
   "cell_type": "markdown",
   "metadata": {},
   "source": [
    "## C. Lasso"
   ]
  },
  {
   "cell_type": "code",
   "execution_count": 31,
   "metadata": {
    "collapsed": true
   },
   "outputs": [],
   "source": [
    "# 1. Import the estimator object (model)\n",
    "#from sklearn.linear_model import Lasso\n",
    "# 2. Create an instance of the estimator\n",
    "lasso = Lasso(alpha=0.0005)\n",
    "# 3. Use the trainning data to train the estimator\n",
    "lasso.fit(x_train, y_train)\n",
    "# 4. Evaluate the model\n",
    "models.loc['full_model_mse','LASSO'] = mean_squared_error(y_pred=lasso.predict(x_test), \n",
    "                                                   y_true=y_test)\n",
    "                                                   \n",
    "# https://scikit-learn.org/stable/modules/generated/sklearn.linear_model.Lasso.html?highlight=lasso#sklearn.linear_model.Lasso"
   ]
  },
  {
   "cell_type": "code",
   "execution_count": 34,
   "metadata": {},
   "outputs": [
    {
     "data": {
      "image/png": "[encoded data removed]",
      "text/plain": [
       "<Figure size 800x500 with 1 Axes>"
      ]
     },
     "metadata": {},
     "output_type": "display_data"
    }
   ],
   "source": [
    "fig, ax = plt.subplots(figsize=(8,5))\n",
    "models.T.plot(kind='barh', ax=ax)\n",
    "ax.set_title('MSE for Regression Models')\n",
    "ax.legend(loc=3);"
   ]
  },
  {
   "cell_type": "code",
   "execution_count": 36,
   "metadata": {},
   "outputs": [
    {
     "data": {
      "text/html": [
       "<div>\n",
       "<style scoped>\n",
       "    .dataframe tbody tr th:only-of-type {\n",
       "        vertical-align: middle;\n",
       "    }\n",
       "\n",
       "    .dataframe tbody tr th {\n",
       "        vertical-align: top;\n",
       "    }\n",
       "\n",
       "    .dataframe thead th {\n",
       "        text-align: right;\n",
       "    }\n",
       "</style>\n",
       "<table border=\"1\" class=\"dataframe\">\n",
       "  <thead>\n",
       "    <tr style=\"text-align: right;\">\n",
       "      <th></th>\n",
       "      <th>NULL</th>\n",
       "      <th>MLR</th>\n",
       "      <th>KNN</th>\n",
       "      <th>LASSO</th>\n",
       "    </tr>\n",
       "  </thead>\n",
       "  <tbody>\n",
       "    <tr>\n",
       "      <th>top10_featues_mse</th>\n",
       "      <td>0.055734</td>\n",
       "      <td>0.023316</td>\n",
       "      <td>0.023801</td>\n",
       "      <td>0.023163</td>\n",
       "    </tr>\n",
       "    <tr>\n",
       "      <th>full_model_mse</th>\n",
       "      <td>NaN</td>\n",
       "      <td>0.023316</td>\n",
       "      <td>0.023801</td>\n",
       "      <td>0.023583</td>\n",
       "    </tr>\n",
       "    <tr>\n",
       "      <th>top10_features_mse</th>\n",
       "      <td>NaN</td>\n",
       "      <td>NaN</td>\n",
       "      <td>0.023801</td>\n",
       "      <td>0.023163</td>\n",
       "    </tr>\n",
       "  </tbody>\n",
       "</table>\n",
       "</div>"
      ],
      "text/plain": [
       "                        NULL       MLR       KNN     LASSO\n",
       "top10_featues_mse   0.055734  0.023316  0.023801  0.023163\n",
       "full_model_mse           NaN  0.023316  0.023801  0.023583\n",
       "top10_features_mse       NaN       NaN  0.023801  0.023163"
      ]
     },
     "execution_count": 36,
     "metadata": {},
     "output_type": "execute_result"
    }
   ],
   "source": [
    "models"
   ]
  },
  {
   "cell_type": "code",
   "execution_count": 37,
   "metadata": {},
   "outputs": [
    {
     "data": {
      "text/plain": [
       "array([-0.22304088,  0.46841124,  0.        ,  0.00102452,  0.        ,\n",
       "       -0.03536236,  0.        ,  0.18976323,  0.        ,  0.        ])"
      ]
     },
     "execution_count": 37,
     "metadata": {},
     "output_type": "execute_result"
    }
   ],
   "source": [
    "lasso.coef_"
   ]
  },
  {
   "cell_type": "code",
   "execution_count": 26,
   "metadata": {
    "scrolled": true
   },
   "outputs": [
    {
     "name": "stdout",
     "output_type": "stream",
     "text": [
      "Features automatically choosen by Lasso:\n",
      "\n",
      "1.pctUrban\n",
      "2.PctOccupMgmtProf\n",
      "3.MalePctDivorce\n",
      "4.PctIlleg\n",
      "5.PctPersDenseHous\n",
      "6.MedNumBR\n",
      "7.HousVacant\n",
      "8.PctVacantBoarded\n",
      "9.MedYrHousBuilt\n",
      "10.PctHousNoPhone\n",
      "11.OwnOccHiQuart\n",
      "12.MedRent\n",
      "13.NumStreet\n",
      "14.PctSameCity85\n",
      "15.LemasPctOfficDrugUn\n"
     ]
    }
   ],
   "source": [
    "print('Features automatically choosen by Lasso:\\n')\n",
    "for i,var in enumerate(x.columns[lasso.coef_>0]):\n",
    "    print(\"{}.{}\".format(i+1, var))"
   ]
  },
  {
   "cell_type": "markdown",
   "metadata": {},
   "source": [
    "## Predicting violent crime"
   ]
  },
  {
   "cell_type": "code",
   "execution_count": 27,
   "metadata": {},
   "outputs": [
    {
     "data": {
      "text/plain": [
       "Lasso(alpha=0.0005)"
      ]
     },
     "execution_count": 27,
     "metadata": {},
     "output_type": "execute_result"
    }
   ],
   "source": [
    "# Retraining the best  (not necessary)\n",
    "lasso_final = Lasso(alpha=0.0005)\n",
    "lasso_final.fit(x, y)"
   ]
  },
  {
   "cell_type": "code",
   "execution_count": 28,
   "metadata": {},
   "outputs": [
    {
     "data": {
      "text/plain": [
       "population             0.13\n",
       "householdsize          0.71\n",
       "agePct12t21            0.40\n",
       "agePct12t29            0.52\n",
       "agePct16t24            0.35\n",
       "                       ... \n",
       "PctSameState85         0.62\n",
       "LandArea               0.02\n",
       "PopDens                1.00\n",
       "PctUsePubTrans         1.00\n",
       "LemasPctOfficDrugUn    0.00\n",
       "Name: DalyCitycity, Length: 90, dtype: float64"
      ]
     },
     "execution_count": 28,
     "metadata": {},
     "output_type": "execute_result"
    }
   ],
   "source": [
    "new_city = crime.iloc[10].drop('ViolentCrimesPerPop')\n",
    "new_city"
   ]
  },
  {
   "cell_type": "code",
   "execution_count": 29,
   "metadata": {},
   "outputs": [
    {
     "name": "stderr",
     "output_type": "stream",
     "text": [
      "C:\\Users\\hjalp\\miniconda3\\envs\\JUP_env\\lib\\site-packages\\sklearn\\base.py:450: UserWarning: X does not have valid feature names, but Lasso was fitted with feature names\n",
      "  warnings.warn(\n"
     ]
    },
    {
     "data": {
      "text/plain": [
       "array([0.39312222])"
      ]
     },
     "execution_count": 29,
     "metadata": {},
     "output_type": "execute_result"
    }
   ],
   "source": [
    "lasso_final.predict(new_city.values.reshape(1,-1))"
   ]
  },
  {
   "cell_type": "code",
   "execution_count": null,
   "metadata": {},
   "outputs": [],
   "source": []
  }
 ],
 "metadata": {
  "kernelspec": {
   "display_name": "Python 3.9.0 64-bit",
   "metadata": {
    "interpreter": {
     "hash": "aee8b7b246df8f9039afb4144a1f6fd8d2ca17a180786b69acc140d282b71a49"
    }
   },
   "name": "python3"
  },
  "language_info": {
   "codemirror_mode": {
    "name": "ipython",
    "version": 3
   },
   "file_extension": ".py",
   "mimetype": "text/x-python",
   "name": "python",
   "nbconvert_exporter": "python",
   "pygments_lexer": "ipython3",
   "version": "3.9.7"
  }
 },
 "nbformat": 4,
 "nbformat_minor": 2
}
