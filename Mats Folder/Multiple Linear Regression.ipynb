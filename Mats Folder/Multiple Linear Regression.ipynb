{
 "cells": [
  {
   "cell_type": "markdown",
   "metadata": {},
   "source": [
    "# Predicting Violent Crime"
   ]
  },
  {
   "cell_type": "markdown",
   "metadata": {},
   "source": [
    "### Data Set Information:\n",
    "\n",
    "Many variables are included so that algorithms that select or learn weights for \n",
    "attributes could be tested. However, clearly unrelated attributes were not included; \n",
    "attributes were picked if there was any plausible connection to crime (N=122), plus \n",
    "the attribute to be predicted (Per Capita Violent Crimes). The variables included in \n",
    "the dataset involve the community, such as the percent of the population considered \n",
    "urban, and the median family income, and involving law enforcement, such as per capita \n",
    "number of police officers, and percent of officers assigned to drug units.\n",
    "\n",
    "The per capita violent crimes variable was calculated using population and the sum of \n",
    "crime variables considered violent crimes in the United States: murder, rape, robbery, \n",
    "and assault. There was apparently some controversy in some states concerning the \n",
    "counting of rapes. These resulted in missing values for rape, which resulted in \n",
    "incorrect values for per capita violent crime. These cities are not included in the \n",
    "dataset. Many of these omitted communities were from the midwestern USA.\n",
    "\n",
    "Data is described below based on original values. All numeric data was normalized into \n",
    "the decimal range 0.00-1.00 using an Unsupervised, equal-interval binning method. \n",
    "Attributes retain their distribution and skew (hence for example the population \n",
    "attribute has a mean value of 0.06 because most communities are small). E.g. An \n",
    "attribute described as 'mean people per household' is actually the normalized (0-1) \n",
    "version of that value.\n",
    "\n",
    "The normalization preserves rough ratios of values WITHIN an attribute (e.g. double \n",
    "the value for double the population within the available precision - except for \n",
    "extreme values (all values more than 3 SD above the mean are normalized to 1.00; all \n",
    "values more than 3 SD below the mean are nromalized to 0.00)).\n",
    "\n",
    "However, the normalization does not preserve relationships between values BETWEEN \n",
    "attributes (e.g. it would not be meaningful to compare the value for whitePerCap with \n",
    "the value for blackPerCap for a community)\n",
    "\n",
    "A limitation was that the LEMAS survey was of the police departments with at least 100 \n",
    "officers, plus a random sample of smaller departments. For our purposes, communities \n",
    "not found in both census and crime datasets were omitted. Many communities are missing \n",
    "LEMAS data."
   ]
  },
  {
   "cell_type": "markdown",
   "metadata": {},
   "source": [
    "### Features description\n",
    "\n",
    "- state: US state (by number) - not counted as predictive above, but if considered, should be consided nominal (nominal) \n",
    "- county: numeric code for county - not predictive, and many missing values (numeric) \n",
    "- community: numeric code for community - not predictive and many missing values (numeric) \n",
    "- communityname: community name - not predictive - for information only (string) \n",
    "- fold: fold number for non-random 10 fold cross validation, potentially useful for debugging, paired tests - not predictive (numeric) \n",
    "- population: population for community: (numeric - decimal) \n",
    "- householdsize: mean people per household (numeric - decimal) \n",
    "- agePct12t21: percentage of population that is 12-21 in age (numeric - decimal) \n",
    "- agePct12t29: percentage of population that is 12-29 in age (numeric - decimal) \n",
    "- agePct16t24: percentage of population that is 16-24 in age (numeric - decimal) \n",
    "- agePct65up: percentage of population that is 65 and over in age (numeric - decimal) \n",
    "- numbUrban: number of people living in areas classified as urban (numeric - decimal) \n",
    "- pctUrban: percentage of people living in areas classified as urban (numeric - decimal) \n",
    "- medIncome: median household income (numeric - decimal) \n",
    "- pctWWage: percentage of households with wage or salary income in 1989 (numeric - decimal) \n",
    "- pctWFarmSelf: percentage of households with farm or self employment income in 1989 (numeric - decimal) \n",
    "- pctWInvInc: percentage of households with investment / rent income in 1989 (numeric - decimal) \n",
    "- pctWSocSec: percentage of households with social security income in 1989 (numeric - decimal) \n",
    "- pctWPubAsst: percentage of households with public assistance income in 1989 (numeric - decimal) \n",
    "- pctWRetire: percentage of households with retirement income in 1989 (numeric - decimal) \n",
    "- medFamInc: median family income (differs from household income for non-family households) (numeric - decimal) \n",
    "- perCapInc: per capita income (numeric - decimal) \n",
    "- NumUnderPov: number of people under the poverty level (numeric - decimal) \n",
    "- PctPopUnderPov: percentage of people under the poverty level (numeric - decimal) \n",
    "- PctLess9thGrade: percentage of people 25 and over with less than a 9th grade education (numeric - decimal) \n",
    "- PctNotHSGrad: percentage of people 25 and over that are not high school graduates (numeric - decimal) \n",
    "- PctBSorMore: percentage of people 25 and over with a bachelors degree or higher education (numeric - decimal) \n",
    "- PctUnemployed: percentage of people 16 and over, in the labor force, and unemployed (numeric - decimal) \n",
    "- PctEmploy: percentage of people 16 and over who are employed (numeric - decimal) \n",
    "- PctEmplManu: percentage of people 16 and over who are employed in manufacturing (numeric - decimal) \n",
    "- PctEmplProfServ: percentage of people 16 and over who are employed in professional services (numeric - decimal) \n",
    "- PctOccupManu: percentage of people 16 and over who are employed in manufacturing (numeric - decimal) ######## \n",
    "- PctOccupMgmtProf: percentage of people 16 and over who are employed in management or professional occupations (numeric - decimal) \n",
    "- MalePctDivorce: percentage of males who are divorced (numeric - decimal) \n",
    "- MalePctNevMarr: percentage of males who have never married (numeric - decimal) \n",
    "- FemalePctDiv: percentage of females who are divorced (numeric - decimal) \n",
    "- TotalPctDiv: percentage of population who are divorced (numeric - decimal) \n",
    "- PersPerFam: mean number of people per family (numeric - decimal) \n",
    "- PctFam2Par: percentage of families (with kids) that are headed by two parents (numeric - decimal) \n",
    "- PctKids2Par: percentage of kids in family housing with two parents (numeric - decimal) \n",
    "- PctYoungKids2Par: percent of kids 4 and under in two parent households (numeric - decimal) \n",
    "- PctTeen2Par: percent of kids age 12-17 in two parent households (numeric - decimal) \n",
    "- PctWorkMomYoungKids: percentage of moms of kids 6 and under in labor force (numeric - decimal) \n",
    "- PctWorkMom: percentage of moms of kids under 18 in labor force (numeric - decimal) \n",
    "- NumIlleg: number of kids born to never married (numeric - decimal) \n",
    " PctIlleg: percentage of kids born to never married (numeric - decimal) \n",
    "- NumImmig: total number of people known to be foreign born (numeric - decimal) \n",
    "- PctImmigRecent: percentage of _immigrants_ who immigated within last 3 years (numeric - decimal) \n",
    "- PctImmigRec5: percentage of _immigrants_ who immigated within last 5 years (numeric - decimal) \n",
    "- PctImmigRec8: percentage of _immigrants_ who immigated within last 8 years (numeric - decimal) \n",
    "- PctImmigRec10: percentage of _immigrants_ who immigated within last 10 years (numeric - decimal) \n",
    "- PctRecentImmig: percent of _population_ who have immigrated within the last 3 years (numeric - decimal) \n",
    "- PctRecImmig5: percent of _population_ who have immigrated within the last 5 years (numeric - decimal) \n",
    "- PctRecImmig8: percent of _population_ who have immigrated within the last 8 years (numeric - decimal) \n",
    "- PctRecImmig10: percent of _population_ who have immigrated within the last 10 years (numeric - decimal) \n",
    "- PctSpeakEnglOnly: percent of people who speak only English (numeric - decimal) \n",
    "- PctNotSpeakEnglWell: percent of people who do not speak English well (numeric - decimal) \n",
    "- PctLargHouseFam: percent of family households that are large (6 or more) (numeric - decimal) \n",
    "- PctLargHouseOccup: percent of all occupied households that are large (6 or more people) (numeric - decimal) \n",
    "- PersPerOccupHous: mean persons per household (numeric - decimal) \n",
    "- PersPerOwnOccHous: mean persons per owner occupied household (numeric - decimal) \n",
    "- PersPerRentOccHous: mean persons per rental household (numeric - decimal) \n",
    "- PctPersOwnOccup: percent of people in owner occupied households (numeric - decimal) \n",
    "- PctPersDenseHous: percent of persons in dense housing (more than 1 person per room) (numeric - decimal) \n",
    "- PctHousLess3BR: percent of housing units with less than 3 bedrooms (numeric - decimal) \n",
    "- MedNumBR: median number of bedrooms (numeric - decimal) \n",
    "- HousVacant: number of vacant households (numeric - decimal) \n",
    "- PctHousOccup: percent of housing occupied (numeric - decimal) \n",
    "- PctHousOwnOcc: percent of households owner occupied (numeric - decimal) \n",
    "- PctVacantBoarded: percent of vacant housing that is boarded up (numeric - decimal) \n",
    "- PctVacMore6Mos: percent of vacant housing that has been vacant more than 6 months (numeric - decimal) \n",
    "- MedYrHousBuilt: median year housing units built (numeric - decimal) \n",
    "- PctHousNoPhone: percent of occupied housing units without phone (in 1990, this was rare!) (numeric - decimal) \n",
    "- PctWOFullPlumb: percent of housing without complete plumbing facilities (numeric - decimal) \n",
    "- OwnOccLowQuart: owner occupied housing - lower quartile value (numeric - decimal) \n",
    "- OwnOccMedVal: owner occupied housing - median value (numeric - decimal) \n",
    "- OwnOccHiQuart: owner occupied housing - upper quartile value (numeric - decimal) \n",
    "- RentLowQ: rental housing - lower quartile rent (numeric - decimal) \n",
    "- RentMedian: rental housing - median rent (Census variable H32B from file STF1A) (numeric - decimal) \n",
    "- RentHighQ: rental housing - upper quartile rent (numeric - decimal) \n",
    "- MedRent: median gross rent (Census variable H43A from file STF3A - includes utilities) (numeric - decimal) \n",
    "- MedRentPctHousInc: median gross rent as a percentage of household income (numeric - decimal) \n",
    "- MedOwnCostPctInc: median owners cost as a percentage of household income - for owners with a mortgage (numeric - decimal) \n",
    "- MedOwnCostPctIncNoMtg: median owners cost as a percentage of household income - for owners without a mortgage (numeric - decimal) \n",
    "- NumInShelters: number of people in homeless shelters (numeric - decimal) \n",
    "- NumStreet: number of homeless people counted in the street (numeric - decimal) \n",
    "- PctForeignBorn: percent of people foreign born (numeric - decimal) \n",
    "- PctBornSameState: percent of people born in the same state as currently living (numeric - decimal) \n",
    "- PctSameHouse85: percent of people living in the same house as in 1985 (5 years before) (numeric - decimal) \n",
    "- PctSameCity85: percent of people living in the same city as in 1985 (5 years before) (numeric - decimal) \n",
    "- PctSameState85: percent of people living in the same state as in 1985 (5 years before) (numeric - decimal) \n",
    "- LemasSwornFT: number of sworn full time police officers (numeric - decimal) \n",
    "- LemasSwFTPerPop: sworn full time police officers per 100K population (numeric - decimal) \n",
    "- LemasSwFTFieldOps: number of sworn full time police officers in field operations (on the street as opposed to administrative etc) (numeric - decimal) \n",
    "- LemasSwFTFieldPerPop: sworn full time police officers in field operations (on the street as opposed to administrative etc) per 100K population (numeric - decimal) \n",
    "- LemasTotalReq: total requests for police (numeric - decimal) \n",
    "- LemasTotReqPerPop: total requests for police per 100K popuation (numeric - decimal) \n",
    "- PolicReqPerOffic: total requests for police per police officer (numeric - decimal) \n",
    "- PolicPerPop: police officers per 100K population (numeric - decimal) \n",
    "- OfficAssgnDrugUnits: number of officers assigned to special drug units (numeric - decimal) \n",
    "- NumKindsDrugsSeiz: number of different kinds of drugs seized (numeric - decimal) \n",
    "- PolicAveOTWorked: police average overtime worked (numeric - decimal) \n",
    "- LandArea: land area in square miles (numeric - decimal) \n",
    "- PopDens: population density in persons per square mile (numeric - decimal) \n",
    "- PctUsePubTrans: percent of people using public transit for commuting (numeric - decimal) \n",
    "- PolicCars: number of police cars (numeric - decimal) \n",
    "- PolicOperBudg: police operating budget (numeric - decimal) \n",
    "- LemasPctPolicOnPatr: percent of sworn full time police officers on patrol (numeric - decimal) \n",
    "- LemasGangUnitDeploy: gang unit deployed (numeric - decimal - but really ordinal - 0 means NO, 1 means YES, 0.5 means Part Time) \n",
    "- LemasPctOfficDrugUn: percent of officers assigned to drug units (numeric - decimal) \n",
    "- PolicBudgPerPop: police operating budget per population (numeric - decimal) \n",
    "- ViolentCrimesPerPop: total number of violent crimes per 100K popuation (numeric - decimal) GOAL attribute (to be predicted) "
   ]
  },
  {
   "cell_type": "code",
   "execution_count": 1,
   "metadata": {
    "collapsed": true
   },
   "outputs": [],
   "source": [
    "# Importing useful libraries\n",
    "import numpy as np\n",
    "import matplotlib.pyplot as plt\n",
    "import pandas as pd\n",
    "from matplotlib import style\n",
    "style.use('dark_background')"
   ]
  },
  {
   "cell_type": "markdown",
   "metadata": {},
   "source": [
    "## Data Preparation"
   ]
  },
  {
   "cell_type": "code",
   "execution_count": 5,
   "metadata": {
    "collapsed": true
   },
   "outputs": [],
   "source": [
    "# importing data\n",
    "crime = pd.read_csv('./data/crime.csv', index_col='communityname') "
   ]
  },
  {
   "cell_type": "code",
   "execution_count": 6,
   "metadata": {},
   "outputs": [
    {
     "data": {
      "text/html": [
       "<div>\n",
       "<style scoped>\n",
       "    .dataframe tbody tr th:only-of-type {\n",
       "        vertical-align: middle;\n",
       "    }\n",
       "\n",
       "    .dataframe tbody tr th {\n",
       "        vertical-align: top;\n",
       "    }\n",
       "\n",
       "    .dataframe thead th {\n",
       "        text-align: right;\n",
       "    }\n",
       "</style>\n",
       "<table border=\"1\" class=\"dataframe\">\n",
       "  <thead>\n",
       "    <tr style=\"text-align: right;\">\n",
       "      <th></th>\n",
       "      <th>state</th>\n",
       "      <th>county</th>\n",
       "      <th>community</th>\n",
       "      <th>fold</th>\n",
       "      <th>population</th>\n",
       "      <th>householdsize</th>\n",
       "      <th>agePct12t21</th>\n",
       "      <th>agePct12t29</th>\n",
       "      <th>agePct16t24</th>\n",
       "      <th>agePct65up</th>\n",
       "      <th>...</th>\n",
       "      <th>PolicAveOTWorked</th>\n",
       "      <th>LandArea</th>\n",
       "      <th>PopDens</th>\n",
       "      <th>PctUsePubTrans</th>\n",
       "      <th>PolicCars</th>\n",
       "      <th>PolicOperBudg</th>\n",
       "      <th>LemasGangUnitDeploy</th>\n",
       "      <th>LemasPctOfficDrugUn</th>\n",
       "      <th>PolicBudgPerPop</th>\n",
       "      <th>ViolentCrimesPerPop</th>\n",
       "    </tr>\n",
       "    <tr>\n",
       "      <th>communityname</th>\n",
       "      <th></th>\n",
       "      <th></th>\n",
       "      <th></th>\n",
       "      <th></th>\n",
       "      <th></th>\n",
       "      <th></th>\n",
       "      <th></th>\n",
       "      <th></th>\n",
       "      <th></th>\n",
       "      <th></th>\n",
       "      <th></th>\n",
       "      <th></th>\n",
       "      <th></th>\n",
       "      <th></th>\n",
       "      <th></th>\n",
       "      <th></th>\n",
       "      <th></th>\n",
       "      <th></th>\n",
       "      <th></th>\n",
       "      <th></th>\n",
       "      <th></th>\n",
       "    </tr>\n",
       "  </thead>\n",
       "  <tbody>\n",
       "    <tr>\n",
       "      <th>Lakewoodcity</th>\n",
       "      <td>8</td>\n",
       "      <td>NaN</td>\n",
       "      <td>NaN</td>\n",
       "      <td>1</td>\n",
       "      <td>0.19</td>\n",
       "      <td>0.33</td>\n",
       "      <td>0.34</td>\n",
       "      <td>0.47</td>\n",
       "      <td>0.29</td>\n",
       "      <td>0.32</td>\n",
       "      <td>...</td>\n",
       "      <td>0.29</td>\n",
       "      <td>0.12</td>\n",
       "      <td>0.26</td>\n",
       "      <td>0.20</td>\n",
       "      <td>0.06</td>\n",
       "      <td>0.04</td>\n",
       "      <td>0.5</td>\n",
       "      <td>0.32</td>\n",
       "      <td>0.14</td>\n",
       "      <td>0.20</td>\n",
       "    </tr>\n",
       "    <tr>\n",
       "      <th>Tukwilacity</th>\n",
       "      <td>53</td>\n",
       "      <td>NaN</td>\n",
       "      <td>NaN</td>\n",
       "      <td>1</td>\n",
       "      <td>0.00</td>\n",
       "      <td>0.16</td>\n",
       "      <td>0.26</td>\n",
       "      <td>0.59</td>\n",
       "      <td>0.35</td>\n",
       "      <td>0.27</td>\n",
       "      <td>...</td>\n",
       "      <td>NaN</td>\n",
       "      <td>0.02</td>\n",
       "      <td>0.12</td>\n",
       "      <td>0.45</td>\n",
       "      <td>NaN</td>\n",
       "      <td>NaN</td>\n",
       "      <td>NaN</td>\n",
       "      <td>0.00</td>\n",
       "      <td>NaN</td>\n",
       "      <td>0.67</td>\n",
       "    </tr>\n",
       "    <tr>\n",
       "      <th>Aberdeentown</th>\n",
       "      <td>24</td>\n",
       "      <td>NaN</td>\n",
       "      <td>NaN</td>\n",
       "      <td>1</td>\n",
       "      <td>0.00</td>\n",
       "      <td>0.42</td>\n",
       "      <td>0.39</td>\n",
       "      <td>0.47</td>\n",
       "      <td>0.28</td>\n",
       "      <td>0.32</td>\n",
       "      <td>...</td>\n",
       "      <td>NaN</td>\n",
       "      <td>0.01</td>\n",
       "      <td>0.21</td>\n",
       "      <td>0.02</td>\n",
       "      <td>NaN</td>\n",
       "      <td>NaN</td>\n",
       "      <td>NaN</td>\n",
       "      <td>0.00</td>\n",
       "      <td>NaN</td>\n",
       "      <td>0.43</td>\n",
       "    </tr>\n",
       "    <tr>\n",
       "      <th>Willingborotownship</th>\n",
       "      <td>34</td>\n",
       "      <td>5.0</td>\n",
       "      <td>81440.0</td>\n",
       "      <td>1</td>\n",
       "      <td>0.04</td>\n",
       "      <td>0.77</td>\n",
       "      <td>0.51</td>\n",
       "      <td>0.50</td>\n",
       "      <td>0.34</td>\n",
       "      <td>0.21</td>\n",
       "      <td>...</td>\n",
       "      <td>NaN</td>\n",
       "      <td>0.02</td>\n",
       "      <td>0.39</td>\n",
       "      <td>0.28</td>\n",
       "      <td>NaN</td>\n",
       "      <td>NaN</td>\n",
       "      <td>NaN</td>\n",
       "      <td>0.00</td>\n",
       "      <td>NaN</td>\n",
       "      <td>0.12</td>\n",
       "    </tr>\n",
       "    <tr>\n",
       "      <th>Bethlehemtownship</th>\n",
       "      <td>42</td>\n",
       "      <td>95.0</td>\n",
       "      <td>6096.0</td>\n",
       "      <td>1</td>\n",
       "      <td>0.01</td>\n",
       "      <td>0.55</td>\n",
       "      <td>0.38</td>\n",
       "      <td>0.38</td>\n",
       "      <td>0.23</td>\n",
       "      <td>0.36</td>\n",
       "      <td>...</td>\n",
       "      <td>NaN</td>\n",
       "      <td>0.04</td>\n",
       "      <td>0.09</td>\n",
       "      <td>0.02</td>\n",
       "      <td>NaN</td>\n",
       "      <td>NaN</td>\n",
       "      <td>NaN</td>\n",
       "      <td>0.00</td>\n",
       "      <td>NaN</td>\n",
       "      <td>0.03</td>\n",
       "    </tr>\n",
       "  </tbody>\n",
       "</table>\n",
       "<p>5 rows × 111 columns</p>\n",
       "</div>"
      ],
      "text/plain": [
       "                     state  county  community  fold  population  \\\n",
       "communityname                                                     \n",
       "Lakewoodcity             8     NaN        NaN     1        0.19   \n",
       "Tukwilacity             53     NaN        NaN     1        0.00   \n",
       "Aberdeentown            24     NaN        NaN     1        0.00   \n",
       "Willingborotownship     34     5.0    81440.0     1        0.04   \n",
       "Bethlehemtownship       42    95.0     6096.0     1        0.01   \n",
       "\n",
       "                     householdsize  agePct12t21  agePct12t29  agePct16t24  \\\n",
       "communityname                                                               \n",
       "Lakewoodcity                  0.33         0.34         0.47         0.29   \n",
       "Tukwilacity                   0.16         0.26         0.59         0.35   \n",
       "Aberdeentown                  0.42         0.39         0.47         0.28   \n",
       "Willingborotownship           0.77         0.51         0.50         0.34   \n",
       "Bethlehemtownship             0.55         0.38         0.38         0.23   \n",
       "\n",
       "                     agePct65up  ...  PolicAveOTWorked  LandArea  PopDens  \\\n",
       "communityname                    ...                                        \n",
       "Lakewoodcity               0.32  ...              0.29      0.12     0.26   \n",
       "Tukwilacity                0.27  ...               NaN      0.02     0.12   \n",
       "Aberdeentown               0.32  ...               NaN      0.01     0.21   \n",
       "Willingborotownship        0.21  ...               NaN      0.02     0.39   \n",
       "Bethlehemtownship          0.36  ...               NaN      0.04     0.09   \n",
       "\n",
       "                     PctUsePubTrans  PolicCars  PolicOperBudg  \\\n",
       "communityname                                                   \n",
       "Lakewoodcity                   0.20       0.06           0.04   \n",
       "Tukwilacity                    0.45        NaN            NaN   \n",
       "Aberdeentown                   0.02        NaN            NaN   \n",
       "Willingborotownship            0.28        NaN            NaN   \n",
       "Bethlehemtownship              0.02        NaN            NaN   \n",
       "\n",
       "                     LemasGangUnitDeploy  LemasPctOfficDrugUn  \\\n",
       "communityname                                                   \n",
       "Lakewoodcity                         0.5                 0.32   \n",
       "Tukwilacity                          NaN                 0.00   \n",
       "Aberdeentown                         NaN                 0.00   \n",
       "Willingborotownship                  NaN                 0.00   \n",
       "Bethlehemtownship                    NaN                 0.00   \n",
       "\n",
       "                     PolicBudgPerPop  ViolentCrimesPerPop  \n",
       "communityname                                              \n",
       "Lakewoodcity                    0.14                 0.20  \n",
       "Tukwilacity                      NaN                 0.67  \n",
       "Aberdeentown                     NaN                 0.43  \n",
       "Willingborotownship              NaN                 0.12  \n",
       "Bethlehemtownship                NaN                 0.03  \n",
       "\n",
       "[5 rows x 111 columns]"
      ]
     },
     "execution_count": 6,
     "metadata": {},
     "output_type": "execute_result"
    }
   ],
   "source": [
    "crime.head()"
   ]
  },
  {
   "cell_type": "code",
   "execution_count": 7,
   "metadata": {},
   "outputs": [
    {
     "name": "stdout",
     "output_type": "stream",
     "text": [
      "state                     0\n",
      "county                 1174\n",
      "community              1177\n",
      "fold                      0\n",
      "population                0\n",
      "                       ... \n",
      "PolicOperBudg          1675\n",
      "LemasGangUnitDeploy    1675\n",
      "LemasPctOfficDrugUn       0\n",
      "PolicBudgPerPop        1675\n",
      "ViolentCrimesPerPop       0\n",
      "Length: 111, dtype: int64\n"
     ]
    }
   ],
   "source": [
    "# number of NaN values\n",
    "nan_per_col = crime.isna().sum()\n",
    "print(nan_per_col)"
   ]
  },
  {
   "cell_type": "code",
   "execution_count": 8,
   "metadata": {},
   "outputs": [
    {
     "data": {
      "text/plain": [
       "county                  1174\n",
       "community               1177\n",
       "LemasSwornFT            1675\n",
       "LemasSwFTPerPop         1675\n",
       "LemasSwFTFieldOps       1675\n",
       "LemasSwFTFieldPerPop    1675\n",
       "LemasTotalReq           1675\n",
       "LemasTotReqPerPop       1675\n",
       "PolicReqPerOffic        1675\n",
       "PolicPerPop             1675\n",
       "RacialMatchCommPol      1675\n",
       "OfficAssgnDrugUnits     1675\n",
       "NumKindsDrugsSeiz       1675\n",
       "PolicAveOTWorked        1675\n",
       "PolicCars               1675\n",
       "PolicOperBudg           1675\n",
       "LemasGangUnitDeploy     1675\n",
       "PolicBudgPerPop         1675\n",
       "dtype: int64"
      ]
     },
     "execution_count": 8,
     "metadata": {},
     "output_type": "execute_result"
    }
   ],
   "source": [
    "# Showing all variables with missing values\n",
    "missing_values = nan_per_col[nan_per_col>0]\n",
    "missing_values"
   ]
  },
  {
   "cell_type": "code",
   "execution_count": 9,
   "metadata": {},
   "outputs": [],
   "source": [
    "# Deleting columns with majority of missing values\n",
    "cols_to_remove = missing_values.index\n",
    "crime.drop(cols_to_remove, axis=1, inplace=True)"
   ]
  },
  {
   "cell_type": "code",
   "execution_count": 10,
   "metadata": {},
   "outputs": [],
   "source": [
    "# Deleting non predictive columns\n",
    "non_predictive = ['state', 'fold']\n",
    "crime.drop(non_predictive, axis=1, inplace=True)"
   ]
  },
  {
   "cell_type": "code",
   "execution_count": 11,
   "metadata": {},
   "outputs": [
    {
     "data": {
      "text/plain": [
       "['PctKids2Par',\n",
       " 'PctIlleg',\n",
       " 'PctFam2Par',\n",
       " 'PctYoungKids2Par',\n",
       " 'PctTeen2Par',\n",
       " 'pctWInvInc',\n",
       " 'pctWPubAsst',\n",
       " 'FemalePctDiv',\n",
       " 'TotalPctDiv',\n",
       " 'PctPersOwnOccup']"
      ]
     },
     "execution_count": 11,
     "metadata": {},
     "output_type": "execute_result"
    }
   ],
   "source": [
    "# Features with the highest correlation with the target\n",
    "top_corr_features = crime.corr().loc['ViolentCrimesPerPop'].apply(np.abs).sort_values(ascending=False).index[1:11]\n",
    "top_corr_features = list(top_corr_features)\n",
    "top_corr_features"
   ]
  },
  {
   "cell_type": "markdown",
   "metadata": {},
   "source": [
    "### Getting the train and test sets"
   ]
  },
  {
   "cell_type": "code",
   "execution_count": 12,
   "metadata": {
    "collapsed": true
   },
   "outputs": [],
   "source": [
    "from sklearn.model_selection import train_test_split\n",
    "from sklearn.metrics import mean_squared_error\n",
    "from sklearn.metrics import mean_absolute_error\n",
    "from sklearn.metrics import r2_score\n",
    "from sklearn.metrics import explained_variance_score"
   ]
  },
  {
   "cell_type": "code",
   "execution_count": 13,
   "metadata": {},
   "outputs": [],
   "source": [
    "target_name = 'ViolentCrimesPerPop'\n",
    "x = crime[top_corr_features]\n",
    "y = crime[target_name]\n",
    "x_train, x_test, y_train, y_test = train_test_split(x, y, test_size=0.2, random_state=12)"
   ]
  },
  {
   "cell_type": "markdown",
   "metadata": {},
   "source": [
    "### Preparing a DataFrame for model analysis"
   ]
  },
  {
   "cell_type": "code",
   "execution_count": 14,
   "metadata": {},
   "outputs": [],
   "source": [
    "model_mean = pd.DataFrame(index=['MSE', 'RMSE', 'MAE'], columns=['NULL', 'MLR'])\n",
    "model_r = pd.DataFrame(index=['R2', 'explained_variance'], columns=['NULL', 'MLR'])"
   ]
  },
  {
   "cell_type": "markdown",
   "metadata": {},
   "source": [
    "# Making predictions with just a few features (top 10)"
   ]
  },
  {
   "cell_type": "markdown",
   "metadata": {},
   "source": [
    "## The Null model: always predict the average of the target"
   ]
  },
  {
   "cell_type": "code",
   "execution_count": 15,
   "metadata": {
    "scrolled": true
   },
   "outputs": [
    {
     "name": "stdout",
     "output_type": "stream",
     "text": [
      "0.23799373040752353\n"
     ]
    }
   ],
   "source": [
    "y_pred_null = y_train.mean()\n",
    "print(y_pred_null)\n",
    "model_mean.loc['MSE','NULL'] = mean_squared_error(y_pred=np.repeat(y_pred_null, y_test.size), y_true=y_test)\n",
    "model_mean.loc['RMSE','NULL'] = mean_squared_error(y_pred=np.repeat(y_pred_null, y_test.size), y_true=y_test, squared=False)\n",
    "model_mean.loc['MAE','NULL'] = mean_absolute_error(y_pred=np.repeat(y_pred_null, y_test.size), y_true=y_test)\n",
    "model_r.loc['R2','NULL'] = r2_score(y_pred=np.repeat(y_pred_null, y_test.size), y_true=y_test)\n",
    "model_r.loc['explained_variance','NULL'] = explained_variance_score(y_pred=np.repeat(y_pred_null, y_test.size), y_true=y_test)"
   ]
  },
  {
   "cell_type": "markdown",
   "metadata": {},
   "source": [
    "## A. Multiple Linear Regression"
   ]
  },
  {
   "cell_type": "code",
   "execution_count": 16,
   "metadata": {
    "collapsed": true
   },
   "outputs": [],
   "source": [
    "# 1. Import the estimator object (model)\n",
    "from sklearn.linear_model import LinearRegression\n",
    "# 2. Create an instance of the estimator\n",
    "linear_regression = LinearRegression()\n",
    "# 3. Use the training data to train the estimator\n",
    "linear_regression.fit(x_train, y_train)\n",
    "# 4. Evaluate the model\n",
    "model_mean.loc['MSE','MLR'] = mean_squared_error(y_pred=linear_regression.predict(x_test), y_true=y_test)\n",
    "model_mean.loc['RMSE','MLR'] = mean_squared_error(y_pred=linear_regression.predict(x_test), y_true=y_test, squared=False)\n",
    "model_mean.loc['MAE','MLR'] = mean_absolute_error(y_pred=linear_regression.predict(x_test), y_true=y_test)\n",
    "model_r.loc['R2','MLR'] = r2_score(y_pred=linear_regression.predict(x_test), y_true=y_test)\n",
    "model_r.loc['explained_variance','MLR'] = explained_variance_score(y_pred=linear_regression.predict(x_test), y_true=y_test)"
   ]
  },
  {
   "cell_type": "code",
   "execution_count": 17,
   "metadata": {},
   "outputs": [
    {
     "data": {
      "image/png": "[encoded data removed]",
      "text/plain": [
       "<Figure size 576x360 with 1 Axes>"
      ]
     },
     "metadata": {},
     "output_type": "display_data"
    }
   ],
   "source": [
    "fig, ax = plt.subplots(figsize=(8,5))\n",
    "model_mean.T.plot(kind='barh', ax=ax)\n",
    "ax.set_title('Mean error metrics for Regression Models');"
   ]
  },
  {
   "cell_type": "code",
   "execution_count": 74,
   "metadata": {},
   "outputs": [
    {
     "data": {
      "image/png": "[encoded data removed]",
      "text/plain": [
       "<Figure size 576x360 with 1 Axes>"
      ]
     },
     "metadata": {
      "needs_background": "light"
     },
     "output_type": "display_data"
    }
   ],
   "source": [
    "fig, ax = plt.subplots(figsize=(8,5))\n",
    "model_r.T.plot(kind='barh', ax=ax)\n",
    "ax.set_title('Error metrics for Regression Models');"
   ]
  }
 ],
 "metadata": {
  "kernelspec": {
   "display_name": "Python 3.9.0 64-bit",
   "metadata": {
    "interpreter": {
     "hash": "aee8b7b246df8f9039afb4144a1f6fd8d2ca17a180786b69acc140d282b71a49"
    }
   },
   "name": "python3"
  },
  "language_info": {
   "codemirror_mode": {
    "name": "ipython",
    "version": 3
   },
   "file_extension": ".py",
   "mimetype": "text/x-python",
   "name": "python",
   "nbconvert_exporter": "python",
   "pygments_lexer": "ipython3",
   "version": "3.9.7"
  }
 },
 "nbformat": 4,
 "nbformat_minor": 2
}
